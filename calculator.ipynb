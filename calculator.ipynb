{
 "cells": [
  {
   "cell_type": "markdown",
   "id": "92cbaad0",
   "metadata": {},
   "source": [
    "# CALCULATOR"
   ]
  },
  {
   "cell_type": "code",
   "execution_count": 1,
   "id": "93a48f2b",
   "metadata": {},
   "outputs": [],
   "source": [
    "import tkinter as tk\n",
    "\n",
    "def on_click(event):\n",
    "    current_text = entry.get()\n",
    "    text = event.widget.cget(\"text\")\n",
    "\n",
    "    if text == \"=\":\n",
    "        try:\n",
    "            result = eval(current_text)\n",
    "            entry.delete(0, tk.END)\n",
    "            entry.insert(tk.END, str(result))\n",
    "        except Exception as e:\n",
    "            entry.delete(0, tk.END)\n",
    "            entry.insert(tk.END, \"Error\")\n",
    "    elif text == \"C\":\n",
    "        entry.delete(0, tk.END)\n",
    "    else:\n",
    "        entry.insert(tk.END, text)\n",
    "\n",
    "def create_button(text, row, col, col_span=1):\n",
    "    button = tk.Button(root, text=text, font=(\"Helvetica\", 18), bd=5)\n",
    "    button.grid(row=row, column=col, columnspan=col_span, padx=5, pady=5)\n",
    "    button.bind(\"<Button-1>\", on_click)  # Bind the button click event to the on_click() function\n",
    "    return button\n",
    "\n",
    "root = tk.Tk()\n",
    "root.title(\"Calculator\")\n",
    "root.geometry(\"300x400\")\n",
    "\n",
    "\n",
    "heading_label = tk.Label(root, text=\"Calculator\", font=(\"Helvetica\", 16, \"bold\"),highlightcolor=(\"red\"))\n",
    "heading_label.grid(row=0, column=0, columnspan=4, pady=20)\n",
    "\n",
    "entry = tk.Entry(root, font=(\"Helvetica\", 24), bd=5, justify=tk.RIGHT)\n",
    "entry.grid(row=1, column=0, columnspan=4, padx=10, pady=10)\n",
    "\n",
    "\n",
    "create_button(\"7\", 2, 0)\n",
    "create_button(\"8\", 2, 1)\n",
    "create_button(\"9\", 2, 2)\n",
    "create_button(\"/\", 2, 3)\n",
    "\n",
    "create_button(\"4\", 3, 0)\n",
    "create_button(\"5\", 3, 1)\n",
    "create_button(\"6\", 3, 2)\n",
    "create_button(\"*\", 3, 3)\n",
    "\n",
    "create_button(\"1\", 4, 0)\n",
    "create_button(\"2\", 4, 1)\n",
    "create_button(\"3\", 4, 2)\n",
    "create_button(\"-\", 4, 3)\n",
    "\n",
    "create_button(\"0\", 5, 0)\n",
    "create_button(\".\", 5, 1)\n",
    "create_button(\"=\", 5, 2)\n",
    "create_button(\"+\", 5, 3)\n",
    "\n",
    "create_button(\"C\", 6, 0, 3)\n",
    "\n",
    "root.mainloop()\n"
   ]
  },
  {
   "cell_type": "code",
   "execution_count": null,
   "id": "ec012708",
   "metadata": {},
   "outputs": [],
   "source": []
  }
 ],
 "metadata": {
  "kernelspec": {
   "display_name": "Python 3",
   "language": "python",
   "name": "python3"
  },
  "language_info": {
   "codemirror_mode": {
    "name": "ipython",
    "version": 3
   },
   "file_extension": ".py",
   "mimetype": "text/x-python",
   "name": "python",
   "nbconvert_exporter": "python",
   "pygments_lexer": "ipython3",
   "version": "3.8.8"
  }
 },
 "nbformat": 4,
 "nbformat_minor": 5
}
