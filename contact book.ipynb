{
 "cells": [
  {
   "cell_type": "markdown",
   "id": "9978c1ec",
   "metadata": {},
   "source": [
    "# Contact Book"
   ]
  },
  {
   "cell_type": "code",
   "execution_count": 7,
   "id": "1e1507b4",
   "metadata": {},
   "outputs": [],
   "source": [
    "import tkinter as tk\n",
    "from tkinter import messagebox, simpledialog\n",
    "\n",
    "class ContactBook:\n",
    "    def __init__(self, root):\n",
    "        self.root = root\n",
    "        self.root.title(\"Contact Book\")\n",
    "        \n",
    "        # Create a dictionary to store contacts\n",
    "        self.contacts = {}\n",
    "        \n",
    "        # Create a listbox to display contacts\n",
    "        self.contact_listbox = tk.Listbox(root, selectmode=tk.SINGLE)\n",
    "        self.contact_listbox.pack(padx=10, pady=10, side=tk.LEFT, fill=tk.BOTH, expand=True)\n",
    "        \n",
    "        # Create buttons\n",
    "        self.add_button = tk.Button(root, text=\"Add Contact\", command=self.add_contact)\n",
    "        self.view_button = tk.Button(root, text=\"View Contact\", command=self.view_contact)\n",
    "        self.update_button = tk.Button(root, text=\"Update Contact\", command=self.update_contact)\n",
    "        self.delete_button = tk.Button(root, text=\"Delete Contact\", command=self.delete_contact)\n",
    "        \n",
    "        self.add_button.pack(padx=10, pady=10, side=tk.TOP, fill=tk.X)\n",
    "        self.view_button.pack(padx=10, pady=10, side=tk.TOP, fill=tk.X)\n",
    "        self.update_button.pack(padx=10, pady=10, side=tk.TOP, fill=tk.X)\n",
    "        self.delete_button.pack(padx=10, pady=10, side=tk.TOP, fill=tk.X)\n",
    "        \n",
    "        # Bind double-click event to view_contact function\n",
    "        self.contact_listbox.bind(\"<Double-1>\", lambda event: self.view_contact())\n",
    "        \n",
    "    def add_contact(self):\n",
    "        name = simpledialog.askstring(\"Add Contact\", \"Enter Name:\")\n",
    "        if name:\n",
    "            phone = simpledialog.askstring(\"Add Contact\", \"Enter Phone Number:\")\n",
    "            if phone:\n",
    "                self.contacts[name] = phone\n",
    "                self.contact_listbox.insert(tk.END, name)\n",
    "                \n",
    "    def view_contact(self):\n",
    "        selected_index = self.contact_listbox.curselection()\n",
    "        if selected_index:\n",
    "            name = self.contact_listbox.get(selected_index[0])\n",
    "            phone = self.contacts.get(name, \"N/A\")\n",
    "            messagebox.showinfo(\"Contact Details\", f\"Name: {name}\\nPhone: {phone}\")\n",
    "            \n",
    "    def update_contact(self):\n",
    "        selected_index = self.contact_listbox.curselection()\n",
    "        if selected_index:\n",
    "            name = self.contact_listbox.get(selected_index[0])\n",
    "            new_phone = simpledialog.askstring(\"Update Contact\", f\"Update Phone Number for {name}:\")\n",
    "            if new_phone:\n",
    "                self.contacts[name] = new_phone\n",
    "            \n",
    "    def delete_contact(self):\n",
    "        selected_index = self.contact_listbox.curselection()\n",
    "        if selected_index:\n",
    "            name = self.contact_listbox.get(selected_index[0])\n",
    "            confirm = messagebox.askyesno(\"Delete Contact\", f\"Delete {name}?\")\n",
    "            if confirm:\n",
    "                del self.contacts[name]\n",
    "                self.contact_listbox.delete(selected_index[0])\n",
    "\n",
    "if __name__ == \"__main__\":\n",
    "    root = tk.Tk()\n",
    "    app = ContactBook(root)\n",
    "    root.mainloop()\n"
   ]
  },
  {
   "cell_type": "code",
   "execution_count": null,
   "id": "5eecd9ed",
   "metadata": {},
   "outputs": [],
   "source": []
  }
 ],
 "metadata": {
  "kernelspec": {
   "display_name": "Python 3",
   "language": "python",
   "name": "python3"
  },
  "language_info": {
   "codemirror_mode": {
    "name": "ipython",
    "version": 3
   },
   "file_extension": ".py",
   "mimetype": "text/x-python",
   "name": "python",
   "nbconvert_exporter": "python",
   "pygments_lexer": "ipython3",
   "version": "3.8.8"
  }
 },
 "nbformat": 4,
 "nbformat_minor": 5
}
