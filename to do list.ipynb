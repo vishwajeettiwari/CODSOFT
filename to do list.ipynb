{
 "cells": [
  {
   "cell_type": "markdown",
   "id": "fe09a0bb",
   "metadata": {},
   "source": [
    "# To-Do List application"
   ]
  },
  {
   "cell_type": "code",
   "execution_count": 1,
   "id": "733b9fa5",
   "metadata": {},
   "outputs": [],
   "source": [
    "import tkinter as tk\n",
    "from tkinter import simpledialog, messagebox\n",
    "\n",
    "def add_task():\n",
    "    global listbox_tasks, entry_task\n",
    "    task = entry_task.get()\n",
    "    if task:\n",
    "        listbox_tasks.insert(tk.END, task)\n",
    "        entry_task.delete(0, tk.END)\n",
    "    else:\n",
    "        messagebox.showwarning(\"Warning\", \"Please enter a task.\")\n",
    "\n",
    "def delete_task():\n",
    "    global listbox_tasks\n",
    "    try:\n",
    "        index = listbox_tasks.curselection()[0]\n",
    "        listbox_tasks.delete(index)\n",
    "    except IndexError:\n",
    "        messagebox.showwarning(\"Warning\", \"Please select a task to delete.\")\n",
    "\n",
    "def edit_task():\n",
    "    global listbox_tasks\n",
    "    try:\n",
    "        index = listbox_tasks.curselection()[0]\n",
    "        old_task = listbox_tasks.get(index)\n",
    "        new_task = simpledialog.askstring(\"Edit Task\", \"Edit the selected task:\", initialvalue=old_task)\n",
    "        if new_task:\n",
    "            listbox_tasks.delete(index)\n",
    "            listbox_tasks.insert(index, new_task)\n",
    "    except IndexError:\n",
    "        messagebox.showwarning(\"Warning\", \"Please select a task to edit.\")\n",
    "\n",
    "def main():\n",
    "    global listbox_tasks, entry_task\n",
    "    root = tk.Tk()\n",
    "    root.title(\"Task 1 To-Do List\")\n",
    "\n",
    "    frame_tasks = tk.Frame(root)\n",
    "    frame_tasks.pack(pady=10)\n",
    "\n",
    "    listbox_tasks = tk.Listbox(frame_tasks, width=50, height=10, selectbackground=\"green\")\n",
    "    listbox_tasks.pack(side=tk.LEFT, fill=tk.BOTH)\n",
    "\n",
    "    scrollbar_tasks = tk.Scrollbar(frame_tasks)\n",
    "    scrollbar_tasks.pack(side=tk.RIGHT, fill=tk.BOTH)\n",
    "\n",
    "    listbox_tasks.config(yscrollcommand=scrollbar_tasks.set)\n",
    "    scrollbar_tasks.config(command=listbox_tasks.yview)\n",
    "\n",
    "    entry_task = tk.Entry(root, width=50)\n",
    "    entry_task.pack(pady=10)\n",
    "\n",
    "    button_add_task = tk.Button(root, text=\"Add Task\", command=add_task)\n",
    "    button_add_task.pack(side=tk.LEFT, padx=5)\n",
    "\n",
    "    button_delete_task = tk.Button(root, text=\"Delete Task\", command=delete_task)\n",
    "    button_delete_task.pack(side=tk.LEFT, padx=5)\n",
    "\n",
    "    button_edit_task = tk.Button(root, text=\"Edit Task\", command=edit_task)\n",
    "    button_edit_task.pack(side=tk.LEFT, padx=5)\n",
    "\n",
    "    root.mainloop()\n",
    "\n",
    "if __name__ == \"__main__\":\n",
    "    main()"
   ]
  },
  {
   "cell_type": "code",
   "execution_count": null,
   "id": "6cdd25e5",
   "metadata": {},
   "outputs": [],
   "source": []
  }
 ],
 "metadata": {
  "kernelspec": {
   "display_name": "Python 3",
   "language": "python",
   "name": "python3"
  },
  "language_info": {
   "codemirror_mode": {
    "name": "ipython",
    "version": 3
   },
   "file_extension": ".py",
   "mimetype": "text/x-python",
   "name": "python",
   "nbconvert_exporter": "python",
   "pygments_lexer": "ipython3",
   "version": "3.8.8"
  }
 },
 "nbformat": 4,
 "nbformat_minor": 5
}
